{
 "cells": [
  {
   "cell_type": "markdown",
   "metadata": {
    "id": "I-OBEtLXWKp4"
   },
   "source": [
    "Original text can be found here: http://lib.ru/PROZA/SIMASHKO/mazdak.txt"
   ]
  },
  {
   "cell_type": "markdown",
   "metadata": {},
   "source": [
    "Open and pre-process a text file"
   ]
  },
  {
   "cell_type": "code",
   "execution_count": 22,
   "metadata": {
    "id": "VQ8zWzLnXx4U"
   },
   "outputs": [],
   "source": [
    "with open('mazdak.txt', encoding = \"utf8\") as f:\n",
    "    text = f.readlines()"
   ]
  },
  {
   "cell_type": "code",
   "execution_count": 23,
   "metadata": {
    "colab": {
     "base_uri": "https://localhost:8080/",
     "height": 259
    },
    "id": "rqXxj8XtZmhd",
    "outputId": "d29a0888-9421-405f-d2ae-3621a11f807b"
   },
   "outputs": [
    {
     "data": {
      "text/plain": [
       "'\\n1\\n\\n     Рык, низкий и страшный, наполняет землю. Тысяча солнц сразу вспыхивает,\\nкак от удара кованой персидской палицы. Сенатор Агафий Кратисфен прищуривает\\nглаза, медленно поворачивает голову. Едущие с ним патриции сбиваются в кучу.\\nТяжеловесные византийские кони с мохнатыми  ногами, оседая  на зады, пятятся\\nобратно в полутьму заборов. Так было задумано  два века назад, когда строили\\nэтот  дворец: длинный крытый  проезд  к нему, трубное содрогание и  вполнеба\\nотраженное солнце...\\n     Они слезают  с коней, отдают  поводья в  протянутые  сзади руки и долго\\nстоят в сухой тишине. Площадь выложена квадратами черного таврского камня...\\n     Сияние,  исходящее  от  парадной  стены  дворца,  нестерпимо  и  мешает\\nсосредоточиться. Сенатор по давней привычке закрывает глаза...\\n     Зачем он здесь, в великом городе царя персов Ктесифоне, в год четыреста\\nдевяносто первый от рождения  Спасителя?.. Радужные  круги блекнут, из  тьмы\\nвозникает  типично  исаврийское  лицо с  жесткими,  неряшливо  по'"
      ]
     },
     "execution_count": 23,
     "metadata": {},
     "output_type": "execute_result"
    }
   ],
   "source": [
    "text = \"\".join(text)\n",
    "text[:1000]"
   ]
  },
  {
   "cell_type": "code",
   "execution_count": 24,
   "metadata": {
    "id": "xXpaSnIHoJ6j"
   },
   "outputs": [],
   "source": [
    "import re\n",
    "import string"
   ]
  },
  {
   "cell_type": "code",
   "execution_count": 25,
   "metadata": {
    "id": "hKtNX5stolnd"
   },
   "outputs": [],
   "source": [
    "text = re.sub(r'\\n',\" \", text)\n",
    "text = re.sub(r'\\s{2,}',\" \", text)"
   ]
  },
  {
   "cell_type": "code",
   "execution_count": 26,
   "metadata": {},
   "outputs": [],
   "source": [
    "# remove punctuation\n",
    "text = text.translate(str.maketrans('','',string.punctuation))"
   ]
  },
  {
   "cell_type": "code",
   "execution_count": 27,
   "metadata": {},
   "outputs": [
    {
     "name": "stdout",
     "output_type": "stream",
     "text": [
      " 1 Рык низкий и страшный наполняет землю Тысяча солнц сразу вспыхивает как от удара кованой персидской палицы Сенатор Агафий Кратисфен прищуривает глаза медленно поворачивает голову Едущие с ним патриции сбиваются в кучу Тяжеловесные византийские кони с мохнатыми ногами оседая на зады пятятся обратно в полутьму заборов Так было задумано два века назад когда строили этот дворец длинный крытый проезд к нему трубное содрогание и вполнеба отраженное солнце Они слезают с коней отдают поводья в протянутые сзади руки и долго стоят в сухой тишине Площадь выложена квадратами черного таврского камня Сияние исходящее от парадной стены дворца нестерпимо и мешает сосредоточиться Сенатор по давней привычке закрывает глаза Зачем он здесь в великом городе царя персов Ктесифоне в год четыреста девяносто первый от рождения Спасителя Радужные круги блекнут из тьмы возникает типично исаврийское лицо с жесткими неряшливо подкрашенными усами Нагловатые навыкате глаза  как мокрые каштаны в луже большой исавр\n"
     ]
    }
   ],
   "source": [
    "print(text[:1000])"
   ]
  },
  {
   "cell_type": "markdown",
   "metadata": {},
   "source": [
    "# 1) lemmatization"
   ]
  },
  {
   "cell_type": "code",
   "execution_count": 28,
   "metadata": {
    "id": "kr5lIBQmWAk7"
   },
   "outputs": [],
   "source": [
    "import pymystem3"
   ]
  },
  {
   "cell_type": "code",
   "execution_count": 29,
   "metadata": {
    "id": "o-2XYLJtXXRL"
   },
   "outputs": [],
   "source": [
    "m = pymystem3.Mystem()"
   ]
  },
  {
   "cell_type": "code",
   "execution_count": 30,
   "metadata": {
    "colab": {
     "base_uri": "https://localhost:8080/",
     "height": 358
    },
    "id": "IKvaNqxVXrxS",
    "outputId": "95847073-b7b6-4480-f36e-f2e9403660c9"
   },
   "outputs": [
    {
     "data": {
      "text/plain": [
       "[' ', '1', ' ', 'рык', ' ', 'низкий', ' ', 'и', ' ', 'страшный']"
      ]
     },
     "execution_count": 30,
     "metadata": {},
     "output_type": "execute_result"
    }
   ],
   "source": [
    "lemmas = m.lemmatize(text)\n",
    "lemmas[:10]"
   ]
  },
  {
   "cell_type": "markdown",
   "metadata": {},
   "source": [
    "Save lemmatized text as txt"
   ]
  },
  {
   "cell_type": "code",
   "execution_count": 31,
   "metadata": {},
   "outputs": [],
   "source": [
    "with open('lemmas.txt', 'w') as f:\n",
    "    for word in lemmas:\n",
    "        f.write(word)"
   ]
  },
  {
   "cell_type": "markdown",
   "metadata": {},
   "source": [
    "# 2) tokenization"
   ]
  },
  {
   "cell_type": "code",
   "execution_count": 32,
   "metadata": {},
   "outputs": [
    {
     "name": "stderr",
     "output_type": "stream",
     "text": [
      "[nltk_data] Downloading package punkt to /Users/Kirill/nltk_data...\n",
      "[nltk_data]   Package punkt is already up-to-date!\n"
     ]
    }
   ],
   "source": [
    "import nltk\n",
    "nltk.download('punkt');"
   ]
  },
  {
   "cell_type": "code",
   "execution_count": 33,
   "metadata": {},
   "outputs": [],
   "source": [
    "tokens = nltk.word_tokenize(text)"
   ]
  },
  {
   "cell_type": "code",
   "execution_count": 34,
   "metadata": {},
   "outputs": [],
   "source": [
    "from pymorphy2 import MorphAnalyzer\n",
    "morph = MorphAnalyzer()"
   ]
  },
  {
   "cell_type": "markdown",
   "metadata": {},
   "source": [
    "Benchmark for desired format: {\"lemma\": \"конь\", \"word\": \"коня\", \"pos\": \"NOUN\"}"
   ]
  },
  {
   "cell_type": "code",
   "execution_count": 35,
   "metadata": {},
   "outputs": [],
   "source": [
    "list_of_analyzes = []\n",
    "for word in tokens: # go through each token, parse it and fetch necessary information\n",
    "    d = {}\n",
    "    lemma = morph.parse(word)[0][2] # lemma\n",
    "    word = morph.parse(word)[0][0] # word form\n",
    "    pos = str(morph.parse(word)[0][1]).split(\",\")[0] #pos\n",
    "    d[\"lemma\"] = lemma\n",
    "    d[\"word\"] = word\n",
    "    d[\"pos\"] = pos\n",
    "    list_of_analyzes.append(d) # add a dict with grammatical info to the list"
   ]
  },
  {
   "cell_type": "code",
   "execution_count": 36,
   "metadata": {},
   "outputs": [
    {
     "data": {
      "text/plain": [
       "[{'lemma': 'страшный', 'word': 'страшный', 'pos': 'ADJF'},\n",
       " {'lemma': 'наполнять', 'word': 'наполняет', 'pos': 'VERB'},\n",
       " {'lemma': 'земля', 'word': 'землю', 'pos': 'NOUN'},\n",
       " {'lemma': 'тысяча', 'word': 'тысяча', 'pos': 'NOUN'},\n",
       " {'lemma': 'солнце', 'word': 'солнц', 'pos': 'NOUN'},\n",
       " {'lemma': 'сразу', 'word': 'сразу', 'pos': 'ADVB'}]"
      ]
     },
     "execution_count": 36,
     "metadata": {},
     "output_type": "execute_result"
    }
   ],
   "source": [
    "list_of_analyzes[4:10] # check the state of the list of dictionaries"
   ]
  },
  {
   "cell_type": "code",
   "execution_count": 37,
   "metadata": {},
   "outputs": [],
   "source": [
    "import jsonlines"
   ]
  },
  {
   "cell_type": "code",
   "execution_count": 38,
   "metadata": {},
   "outputs": [],
   "source": [
    "with jsonlines.open('HW1_pymorphy.jsonl', mode='w') as writer:\n",
    "    for obj in list_of_analyzes:\n",
    "        writer.write(obj)"
   ]
  },
  {
   "cell_type": "markdown",
   "metadata": {},
   "source": [
    "# What percentage constitutes each pos? (E.g., for the verb, the number of verbs divided by the total number of words)"
   ]
  },
  {
   "cell_type": "code",
   "execution_count": 39,
   "metadata": {},
   "outputs": [],
   "source": [
    "pos_l = []\n",
    "for x in range(len(list_of_analyzes)):\n",
    "    pos_l.append(list_of_analyzes[x]['pos']) #extract POSes from the list of dictionaries created few cells above"
   ]
  },
  {
   "cell_type": "code",
   "execution_count": 40,
   "metadata": {},
   "outputs": [
    {
     "name": "stdout",
     "output_type": "stream",
     "text": [
      "['NUMB', 'NOUN', 'ADJF', 'CONJ', 'ADJF']\n"
     ]
    }
   ],
   "source": [
    "print(pos_l[:5]) # sample of a new list with POSes only"
   ]
  },
  {
   "cell_type": "code",
   "execution_count": 41,
   "metadata": {},
   "outputs": [],
   "source": [
    "from collections import Counter"
   ]
  },
  {
   "cell_type": "code",
   "execution_count": 42,
   "metadata": {},
   "outputs": [
    {
     "data": {
      "text/plain": [
       "[('NOUN', 19744),\n",
       " ('VERB', 8200),\n",
       " ('PREP', 7178),\n",
       " ('ADJF', 5875),\n",
       " ('CONJ', 4540),\n",
       " ('ADVB', 3495),\n",
       " ('NPRO', 3197),\n",
       " ('PRCL', 2130),\n",
       " ('PRTF', 919),\n",
       " ('INFN', 812),\n",
       " ('ADJF masc', 654),\n",
       " ('ADJF plur', 581),\n",
       " ('GRND', 529),\n",
       " ('PRTS', 397),\n",
       " ('ADJF femn', 393),\n",
       " ('ADJS', 307),\n",
       " ('PREP Vpre', 214),\n",
       " ('COMP', 191),\n",
       " ('ADJF neut', 183),\n",
       " ('PRED', 135),\n",
       " ('NUMR nomn', 98),\n",
       " ('NUMR inan', 71),\n",
       " ('NUMR gent', 60),\n",
       " ('ADJF inan', 57),\n",
       " ('NUMB', 53),\n",
       " ('NUMR masc', 51),\n",
       " ('UNKN', 51),\n",
       " ('NPRO sing', 34),\n",
       " ('NUMR', 33),\n",
       " ('NUMR femn', 26),\n",
       " ('NUMR accs', 23),\n",
       " ('ADJS plur', 18),\n",
       " ('ADJS neut', 18),\n",
       " ('ADJS masc', 16),\n",
       " ('NUMR ablt', 15),\n",
       " ('NPRO plur', 13),\n",
       " ('INTJ', 8),\n",
       " ('ADJS femn', 7),\n",
       " ('ROMN', 3),\n",
       " ('COMP Cmp2', 2),\n",
       " ('ADJF anim', 1),\n",
       " ('ADVB Dist', 1),\n",
       " ('NUMR datv', 1)]"
      ]
     },
     "execution_count": 42,
     "metadata": {},
     "output_type": "execute_result"
    }
   ],
   "source": [
    "pos_counter = Counter(pos_l)\n",
    "\n",
    "# let's look at absolute numbers\n",
    "sorted(pos_counter.items(), key=lambda x: x[1], reverse = True)"
   ]
  },
  {
   "cell_type": "code",
   "execution_count": 43,
   "metadata": {},
   "outputs": [
    {
     "data": {
      "text/plain": [
       "60334"
      ]
     },
     "execution_count": 43,
     "metadata": {},
     "output_type": "execute_result"
    }
   ],
   "source": [
    "total = sum(pos_counter.values()) # total pos-annotated words\n",
    "total"
   ]
  },
  {
   "cell_type": "code",
   "execution_count": 44,
   "metadata": {},
   "outputs": [],
   "source": [
    "# the loop where we change absolute numbers with percentages in dictionary values\n",
    "for k in pos_counter.keys():\n",
    "    pos_counter[k] = pos_counter[k]/total * 100"
   ]
  },
  {
   "cell_type": "code",
   "execution_count": 45,
   "metadata": {},
   "outputs": [
    {
     "data": {
      "text/plain": [
       "[('NOUN', 32.72450028176484),\n",
       " ('VERB', 13.591010044087911),\n",
       " ('PREP', 11.89710610932476),\n",
       " ('ADJF', 9.737461464514205),\n",
       " ('CONJ', 7.5247787317267205),\n",
       " ('ADVB', 5.792753671230152),\n",
       " ('NPRO', 5.298836476945006),\n",
       " ('PRCL', 3.5303477309642983),\n",
       " ('PRTF', 1.5231875890874134),\n",
       " ('INFN', 1.3458414824145588),\n",
       " ('ADJF masc', 1.0839659230284748),\n",
       " ('ADJF plur', 0.9629727848311068),\n",
       " ('GRND', 0.8767858918685981),\n",
       " ('PRTS', 0.6580037789637684),\n",
       " ('ADJF femn', 0.6513740179666523),\n",
       " ('ADJS', 0.5088341565286572),\n",
       " ('PREP Vpre', 0.3546922133457089),\n",
       " ('COMP', 0.3165710876122916),\n",
       " ('ADJF neut', 0.30331156561805944),\n",
       " ('PRED', 0.2237544336526668),\n",
       " ('NUMR nomn', 0.1624291444293433),\n",
       " ('NUMR inan', 0.11767825769880996),\n",
       " ('NUMR gent', 0.09944641495674082),\n",
       " ('ADJF inan', 0.09447409420890376),\n",
       " ('NUMB', 0.08784433321178772),\n",
       " ('NUMR masc', 0.08452945271322969),\n",
       " ('UNKN', 0.08452945271322969),\n",
       " ('NPRO sing', 0.05635296847548646),\n",
       " ('NUMR', 0.05469552822620744),\n",
       " ('NUMR femn', 0.04309344648125435),\n",
       " ('NUMR accs', 0.03812112573341731),\n",
       " ('ADJS plur', 0.02983392448702224),\n",
       " ('ADJS neut', 0.02983392448702224),\n",
       " ('ADJS masc', 0.026519043988464216),\n",
       " ('NUMR ablt', 0.024861603739185206),\n",
       " ('NPRO plur', 0.021546723240627175),\n",
       " ('INTJ', 0.013259521994232108),\n",
       " ('ADJS femn', 0.011602081744953094),\n",
       " ('ROMN', 0.00497232074783704),\n",
       " ('COMP Cmp2', 0.003314880498558027),\n",
       " ('ADJF anim', 0.0016574402492790135),\n",
       " ('ADVB Dist', 0.0016574402492790135),\n",
       " ('NUMR datv', 0.0016574402492790135)]"
      ]
     },
     "execution_count": 45,
     "metadata": {},
     "output_type": "execute_result"
    }
   ],
   "source": [
    "pos_counter = sorted(pos_counter.items(), key=lambda x: x[1], reverse = True)\n",
    "pos_counter"
   ]
  },
  {
   "cell_type": "markdown",
   "metadata": {},
   "source": [
    "# Print out top-20 verbs and adverbs"
   ]
  },
  {
   "cell_type": "code",
   "execution_count": 46,
   "metadata": {},
   "outputs": [],
   "source": [
    "verb_l = []\n",
    "for x in range(len(list_of_analyzes)):\n",
    "    if \"VERB\" in list_of_analyzes[x].values():\n",
    "        verb_l.append(list_of_analyzes[x]['lemma']) # create a list of verbs' lemmas"
   ]
  },
  {
   "cell_type": "code",
   "execution_count": 47,
   "metadata": {},
   "outputs": [
    {
     "data": {
      "text/plain": [
       "[('быть', 851),\n",
       " ('стоять', 136),\n",
       " ('стать', 120),\n",
       " ('смотреть', 94),\n",
       " ('говорить', 90),\n",
       " ('сидеть', 90),\n",
       " ('знать', 87),\n",
       " ('идти', 81),\n",
       " ('мочь', 76),\n",
       " ('сказать', 76),\n",
       " ('увидеть', 72),\n",
       " ('видеть', 53),\n",
       " ('остаться', 47),\n",
       " ('спросить', 44),\n",
       " ('посмотреть', 44),\n",
       " ('лежать', 41),\n",
       " ('хотеть', 39),\n",
       " ('ждать', 39),\n",
       " ('жить', 37),\n",
       " ('взять', 36),\n",
       " ('пойти', 33)]"
      ]
     },
     "execution_count": 47,
     "metadata": {},
     "output_type": "execute_result"
    }
   ],
   "source": [
    "v_lemma_counter = Counter(verb_l) # make a frequency dictionary\n",
    "sorted(v_lemma_counter.items(), key=lambda x: x[1], reverse = True)[:21]"
   ]
  },
  {
   "cell_type": "code",
   "execution_count": 48,
   "metadata": {},
   "outputs": [
    {
     "data": {
      "text/plain": [
       "[('уже', 204),\n",
       " ('ещё', 154),\n",
       " ('только', 143),\n",
       " ('потом', 121),\n",
       " ('здесь', 103),\n",
       " ('там', 102),\n",
       " ('вдруг', 101),\n",
       " ('сразу', 93),\n",
       " ('где', 76),\n",
       " ('тогда', 69),\n",
       " ('снова', 68),\n",
       " ('потому', 66),\n",
       " ('теперь', 62),\n",
       " ('сейчас', 43),\n",
       " ('совсем', 42),\n",
       " ('ничего', 42),\n",
       " ('назад', 40),\n",
       " ('пока', 37),\n",
       " ('вместе', 37),\n",
       " ('опять', 36),\n",
       " ('прямо', 35)]"
      ]
     },
     "execution_count": 48,
     "metadata": {},
     "output_type": "execute_result"
    }
   ],
   "source": [
    "adv_l = []\n",
    "for x in range(len(list_of_analyzes)):\n",
    "    if \"ADVB\" in list_of_analyzes[x].values():\n",
    "        adv_l.append(list_of_analyzes[x]['lemma'])\n",
    "\n",
    "adv_lemma_counter = Counter(adv_l)\n",
    "sorted(adv_lemma_counter.items(), key=lambda x: x[1], reverse = True)[:21]"
   ]
  },
  {
   "cell_type": "markdown",
   "metadata": {},
   "source": [
    "# Find top-25 bigrams and trigrams for your text (use nltk.bigrams), use only lemmas, get rid of the punctuation. Comment shortly on the results."
   ]
  },
  {
   "cell_type": "code",
   "execution_count": 49,
   "metadata": {},
   "outputs": [],
   "source": [
    "from nltk.util import bigrams\n",
    "from nltk.util import trigrams"
   ]
  },
  {
   "cell_type": "code",
   "execution_count": 60,
   "metadata": {},
   "outputs": [],
   "source": [
    "# clear lemmas list of gaps\n",
    "lemmas2 = []\n",
    "for item in lemmas:\n",
    "    if item != \" \":\n",
    "        lemmas2.append(item)"
   ]
  },
  {
   "cell_type": "code",
   "execution_count": 61,
   "metadata": {},
   "outputs": [
    {
     "data": {
      "text/plain": [
       "[(('и', 'не'), 98),\n",
       " (('царь', 'царь'), 96),\n",
       " (('не', 'быть'), 88),\n",
       " (('это', 'быть'), 78),\n",
       " (('он', 'в'), 77),\n",
       " (('он', 'и'), 61),\n",
       " (('у', 'он'), 60),\n",
       " (('потому', 'что'), 57),\n",
       " (('быть', 'в'), 53),\n",
       " (('быть', 'у'), 46),\n",
       " (('в', 'сторона'), 40),\n",
       " (('тот', 'же'), 38),\n",
       " (('к', 'он'), 37),\n",
       " (('они', 'и'), 37),\n",
       " (('он', 'на'), 37),\n",
       " (('смотреть', 'на'), 36),\n",
       " (('на', 'он'), 36),\n",
       " (('не', 'мочь'), 36),\n",
       " (('не', 'знать'), 35),\n",
       " (('они', 'в'), 35),\n",
       " (('у', 'они'), 34),\n",
       " (('и', 'еще'), 34),\n",
       " (('в', 'ктесифон'), 33),\n",
       " (('с', 'он'), 32),\n",
       " (('авраам', 'и'), 32),\n",
       " (('и', 'в'), 31)]"
      ]
     },
     "execution_count": 61,
     "metadata": {},
     "output_type": "execute_result"
    }
   ],
   "source": [
    "bi_l = list(bigrams(lemmas2))\n",
    "bi_c = Counter(bi_l)\n",
    "sorted(bi_c.items(), key=lambda x: x[1], reverse = True)[:26] #punctuation has been deleted in the pre-processing stage"
   ]
  },
  {
   "cell_type": "code",
   "execution_count": 62,
   "metadata": {},
   "outputs": [
    {
     "data": {
      "text/plain": [
       "[(('царь', 'царь', 'и'), 18),\n",
       " (('царь', 'и', 'бог'), 15),\n",
       " (('быть', 'у', 'он'), 14),\n",
       " (('и', 'не', 'быть'), 12),\n",
       " (('не', 'знать', 'что'), 11),\n",
       " (('смотреть', 'на', 'он'), 10),\n",
       " (('  ', 'сказать', 'он'), 10),\n",
       " (('верить', 'в', 'правда'), 10),\n",
       " (('до', 'сей', 'пора'), 9),\n",
       " (('не', 'быть', 'у'), 9),\n",
       " (('и', 'царь', 'царь'), 9),\n",
       " (('быть', 'у', 'они'), 8),\n",
       " (('бог', 'и', 'царь'), 8),\n",
       " (('человек', 'в', 'красный'), 8),\n",
       " (('по', 'оба', 'сторона'), 8),\n",
       " (('и', 'не', 'мочь'), 8),\n",
       " (('и', 'бог', 'кавад'), 8),\n",
       " (('авраам', '  ', 'сын'), 8),\n",
       " (('великий', 'маг', 'маздак'), 8),\n",
       " (('не', 'быть', 'в'), 8),\n",
       " (('сенатор', 'агафий', 'кратисфен'), 7),\n",
       " (('а', 'мочь', 'быть'), 7),\n",
       " (('посмотреть', 'на', 'он'), 7),\n",
       " (('христианин', 'и', 'иудей'), 7),\n",
       " (('никак', 'не', 'мочь'), 7),\n",
       " (('  ', 'сын', 'вахрометь'), 7)]"
      ]
     },
     "execution_count": 62,
     "metadata": {},
     "output_type": "execute_result"
    }
   ],
   "source": [
    "tri_l = list(trigrams(lemmas2))\n",
    "tri_c = Counter(tri_l)\n",
    "sorted(tri_c.items(), key=lambda x: x[1], reverse = True)[:26]"
   ]
  },
  {
   "cell_type": "markdown",
   "metadata": {},
   "source": [
    "**Small comment**\n",
    "Since stopwords were not deleted among ngrams and especially among bigrams there are a lot of cohesive links, prepositions and conjunctions. Among all ngrams proper nouns, toponyms and nationalities are numerous. Since I had not read the novel I can not surely explain why it is so but I guess that some religious motifs are the main topic of the novel."
   ]
  },
  {
   "cell_type": "markdown",
   "metadata": {},
   "source": [
    "# Take 3-8 sentences from the original text and substitute some morphological information, for example, change the tense of the verbs, the number of the nouns, e.g, the original Слон подарил мартышке цветы should become Слоны подарят мартышкам цветок."
   ]
  },
  {
   "cell_type": "code",
   "execution_count": 150,
   "metadata": {},
   "outputs": [
    {
     "data": {
      "text/plain": [
       "'Специально носит усы исавриец, чтобы досадить сенату. Когда семнадцать лет назад он волею судьбы сделался императором, то в тот же день оголил лицо, стремясь походить на всех мраморных римских августов сразу. Но варварна престоле не лучше свиньи за обеденным столом. Прошло немного времени, и он снова отпустил волосы под носом на манер своих  диких  сородичей. Всех исаврийцев, кто  умеет считать  до  трех,  перетащил в Константинополь.  Они болтают  с  ним  по-своему  и называют  императора старым  языческим именем, которое не выговорить в один присест.'"
      ]
     },
     "execution_count": 150,
     "metadata": {},
     "output_type": "execute_result"
    }
   ],
   "source": [
    "# some lines from the text\n",
    "orig = \"Специально носит усы исавриец, чтобы досадить сенату. Когда семнадцать лет назад он волею судьбы сделался императором, то в тот же день оголил лицо, стремясь походить на всех мраморных римских августов сразу. Но варварна престоле не лучше свиньи за обеденным столом. Прошло немного времени, и он снова отпустил волосы под носом на манер своих  диких  сородичей. Всех исаврийцев, кто  умеет считать  до  трех,  перетащил в Константинополь.  Они болтают  с  ним  по-своему  и называют  императора старым  языческим именем, которое не выговорить в один присест.\"\n",
    "orig"
   ]
  },
  {
   "cell_type": "code",
   "execution_count": 151,
   "metadata": {},
   "outputs": [],
   "source": [
    "new = []\n",
    "for word in orig.split():\n",
    "    word = word.translate(str.maketrans('','',string.punctuation)) # delete punctuation\n",
    "    word_parsed = morph.parse(word)[0]\n",
    "    \n",
    "    word_mutated = word_parsed.inflect({'plur'})\n",
    "        \n",
    "    if word_mutated is not None:    # some words can not have number grameme\n",
    "        \n",
    "        word_mutated_pst = word_mutated.inflect({'past'}) # try to change tense to past\n",
    "        if word_mutated_pst is not None:\n",
    "            new.append(word_mutated_pst[0])\n",
    "        else:\n",
    "            new.append(word_mutated[0])\n",
    "    else: \n",
    "        new.append(word) # if number of the word can not be changed just attach the original word"
   ]
  },
  {
   "cell_type": "code",
   "execution_count": 152,
   "metadata": {},
   "outputs": [
    {
     "name": "stdout",
     "output_type": "stream",
     "text": [
      "Специально носили усы исаврийцы чтобы досадили сенатам Когда семнадцать годов назад он волями судеб сделались императорами то в те же дни оголили лица стремились походили на всех мраморных римских августов сразу Но варварна престолах не хороши свиньи за обеденными столами прошли немного времён и он снова отпустили волосы под носами на манеры своих диких сородичей всех исаврийцев кто умели считали до трех перетащили в Константинополь они болтали с ним посвоему и называли императоров старым языческими именами которые не выговорили в одни присесты\n"
     ]
    }
   ],
   "source": [
    "print(\" \".join(new)) #result "
   ]
  }
 ],
 "metadata": {
  "colab": {
   "collapsed_sections": [],
   "provenance": []
  },
  "kernelspec": {
   "display_name": "Python 3 (ipykernel)",
   "language": "python",
   "name": "python3"
  },
  "language_info": {
   "codemirror_mode": {
    "name": "ipython",
    "version": 3
   },
   "file_extension": ".py",
   "mimetype": "text/x-python",
   "name": "python",
   "nbconvert_exporter": "python",
   "pygments_lexer": "ipython3",
   "version": "3.9.12"
  }
 },
 "nbformat": 4,
 "nbformat_minor": 1
}
